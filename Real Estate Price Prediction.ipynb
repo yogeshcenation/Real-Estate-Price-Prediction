{
 "cells": [
  {
   "cell_type": "markdown",
   "metadata": {},
   "source": [
    "# Real Estate Price Prediction"
   ]
  },
  {
   "cell_type": "markdown",
   "metadata": {},
   "source": [
    "## Importing the Libraries"
   ]
  },
  {
   "cell_type": "code",
   "execution_count": 52,
   "metadata": {
    "pycharm": {
     "is_executing": true,
     "name": "#%%\n"
    }
   },
   "outputs": [],
   "source": [
    "import numpy as np\n",
    "import pandas as pd\n",
    "import matplotlib.pyplot as plt"
   ]
  },
  {
   "cell_type": "markdown",
   "metadata": {},
   "source": [
    "## Import the Dataset called 'Real estate.csv'"
   ]
  },
  {
   "cell_type": "code",
   "execution_count": 53,
   "metadata": {
    "pycharm": {
     "is_executing": true,
     "name": "#%%\n"
    }
   },
   "outputs": [],
   "source": [
    "dataset = pd.read_csv('Real estate.csv')\n",
    "# Create a dependant variable vector 'y' and the independent variable (Features) vector 'x'\n",
    "x = dataset.iloc[: , :-1].values\n",
    "y = dataset.iloc[:, -1].values"
   ]
  },
  {
   "cell_type": "code",
   "execution_count": 54,
   "metadata": {
    "pycharm": {
     "name": "#%%\n"
    }
   },
   "outputs": [
    {
     "name": "stdout",
     "output_type": "stream",
     "text": [
      "[[10]\n",
      " [ 9]\n",
      " [ 5]\n",
      " [ 5]\n",
      " [ 5]\n",
      " [ 3]\n",
      " [ 7]\n",
      " [ 6]\n",
      " [ 1]\n",
      " [ 3]\n",
      " [ 1]\n",
      " [ 9]\n",
      " [ 5]\n",
      " [ 4]\n",
      " [ 4]\n",
      " [ 2]\n",
      " [ 6]\n",
      " [ 1]\n",
      " [ 8]\n",
      " [ 7]\n",
      " [ 3]\n",
      " [ 7]\n",
      " [ 1]\n",
      " [ 7]\n",
      " [ 4]\n",
      " [ 2]\n",
      " [ 5]\n",
      " [ 5]\n",
      " [ 4]\n",
      " [ 5]\n",
      " [ 0]\n",
      " [ 7]\n",
      " [ 1]\n",
      " [ 6]\n",
      " [ 7]\n",
      " [ 0]\n",
      " [ 2]\n",
      " [ 1]\n",
      " [ 6]\n",
      " [ 5]\n",
      " [ 0]\n",
      " [ 0]\n",
      " [ 5]\n",
      " [ 6]\n",
      " [ 4]\n",
      " [ 8]\n",
      " [ 9]\n",
      " [ 3]\n",
      " [ 0]\n",
      " [ 1]\n",
      " [ 4]\n",
      " [ 1]\n",
      " [ 3]\n",
      " [ 5]\n",
      " [ 5]\n",
      " [ 0]\n",
      " [ 8]\n",
      " [ 7]\n",
      " [ 1]\n",
      " [ 5]\n",
      " [ 2]\n",
      " [ 6]\n",
      " [ 3]\n",
      " [ 4]\n",
      " [ 0]\n",
      " [ 8]\n",
      " [ 6]\n",
      " [ 5]\n",
      " [ 6]\n",
      " [ 5]\n",
      " [ 9]\n",
      " [ 3]\n",
      " [ 8]\n",
      " [ 0]\n",
      " [10]\n",
      " [ 1]\n",
      " [ 3]\n",
      " [ 3]\n",
      " [ 2]\n",
      " [ 1]\n",
      " [ 4]\n",
      " [ 6]\n",
      " [ 7]\n",
      " [ 3]\n",
      " [ 7]\n",
      " [ 9]\n",
      " [ 1]\n",
      " [ 0]\n",
      " [ 0]\n",
      " [ 0]\n",
      " [ 1]\n",
      " [ 0]\n",
      " [ 4]\n",
      " [ 0]\n",
      " [ 5]\n",
      " [ 5]\n",
      " [ 9]\n",
      " [ 3]\n",
      " [ 5]\n",
      " [ 9]\n",
      " [ 4]\n",
      " [ 1]\n",
      " [ 6]\n",
      " [ 6]\n",
      " [ 6]\n",
      " [ 6]\n",
      " [ 8]\n",
      " [ 1]\n",
      " [ 2]\n",
      " [ 3]\n",
      " [ 5]\n",
      " [ 7]\n",
      " [ 3]\n",
      " [ 6]\n",
      " [ 8]\n",
      " [ 2]\n",
      " [ 1]\n",
      " [ 0]\n",
      " [ 3]\n",
      " [ 5]\n",
      " [ 5]\n",
      " [ 5]\n",
      " [ 4]\n",
      " [ 0]\n",
      " [ 7]\n",
      " [ 6]\n",
      " [ 4]\n",
      " [ 5]\n",
      " [ 6]\n",
      " [ 7]\n",
      " [ 8]\n",
      " [ 3]\n",
      " [ 5]\n",
      " [ 8]\n",
      " [ 6]\n",
      " [ 0]\n",
      " [ 5]\n",
      " [ 6]\n",
      " [ 0]\n",
      " [ 5]\n",
      " [ 5]\n",
      " [ 3]\n",
      " [ 5]\n",
      " [ 5]\n",
      " [ 1]\n",
      " [ 5]\n",
      " [ 0]\n",
      " [ 8]\n",
      " [ 0]\n",
      " [ 8]\n",
      " [ 7]\n",
      " [ 9]\n",
      " [ 1]\n",
      " [ 6]\n",
      " [ 0]\n",
      " [ 0]\n",
      " [ 0]\n",
      " [ 4]\n",
      " [ 5]\n",
      " [ 4]\n",
      " [ 8]\n",
      " [ 3]\n",
      " [ 0]\n",
      " [ 5]\n",
      " [ 0]\n",
      " [ 1]\n",
      " [ 6]\n",
      " [ 8]\n",
      " [ 5]\n",
      " [ 1]\n",
      " [ 0]\n",
      " [ 5]\n",
      " [ 9]\n",
      " [ 4]\n",
      " [ 7]\n",
      " [ 3]\n",
      " [ 0]\n",
      " [ 9]\n",
      " [ 4]\n",
      " [ 1]\n",
      " [ 0]\n",
      " [ 8]\n",
      " [ 3]\n",
      " [ 0]\n",
      " [ 0]\n",
      " [ 3]\n",
      " [ 3]\n",
      " [ 0]\n",
      " [ 8]\n",
      " [ 0]\n",
      " [ 8]\n",
      " [ 2]\n",
      " [ 7]\n",
      " [ 5]\n",
      " [ 0]\n",
      " [ 5]\n",
      " [ 2]\n",
      " [ 8]\n",
      " [ 7]\n",
      " [ 8]\n",
      " [ 0]\n",
      " [ 5]\n",
      " [ 3]\n",
      " [ 5]\n",
      " [ 1]\n",
      " [ 3]\n",
      " [10]\n",
      " [ 3]\n",
      " [ 1]\n",
      " [ 8]\n",
      " [ 5]\n",
      " [ 1]\n",
      " [ 2]\n",
      " [ 9]\n",
      " [ 3]\n",
      " [ 8]\n",
      " [ 1]\n",
      " [ 6]\n",
      " [ 5]\n",
      " [ 8]\n",
      " [ 9]\n",
      " [ 0]\n",
      " [10]\n",
      " [ 0]\n",
      " [ 6]\n",
      " [ 6]\n",
      " [ 0]\n",
      " [ 8]\n",
      " [ 0]\n",
      " [ 0]\n",
      " [ 3]\n",
      " [ 0]\n",
      " [ 1]\n",
      " [ 9]\n",
      " [ 4]\n",
      " [ 7]\n",
      " [10]\n",
      " [ 0]\n",
      " [ 0]\n",
      " [ 0]\n",
      " [ 2]\n",
      " [ 7]\n",
      " [ 3]\n",
      " [ 8]\n",
      " [ 3]\n",
      " [ 5]\n",
      " [ 6]\n",
      " [ 0]\n",
      " [ 0]\n",
      " [ 1]\n",
      " [ 7]\n",
      " [ 0]\n",
      " [ 9]\n",
      " [ 2]\n",
      " [ 5]\n",
      " [ 1]\n",
      " [ 1]\n",
      " [ 1]\n",
      " [ 6]\n",
      " [ 0]\n",
      " [ 4]\n",
      " [ 3]\n",
      " [ 5]\n",
      " [ 3]\n",
      " [ 7]\n",
      " [ 4]\n",
      " [ 3]\n",
      " [ 5]\n",
      " [ 5]\n",
      " [ 0]\n",
      " [ 1]\n",
      " [ 8]\n",
      " [ 5]\n",
      " [ 1]\n",
      " [ 7]\n",
      " [ 7]\n",
      " [ 5]\n",
      " [ 3]\n",
      " [ 6]\n",
      " [ 3]\n",
      " [ 6]\n",
      " [ 9]\n",
      " [ 1]\n",
      " [ 2]\n",
      " [ 7]\n",
      " [ 3]\n",
      " [ 9]\n",
      " [ 5]\n",
      " [ 6]\n",
      " [ 5]\n",
      " [ 0]\n",
      " [ 7]\n",
      " [ 5]\n",
      " [ 7]\n",
      " [ 6]\n",
      " [ 3]\n",
      " [ 4]\n",
      " [ 4]\n",
      " [ 0]\n",
      " [10]\n",
      " [ 4]\n",
      " [ 0]\n",
      " [ 3]\n",
      " [ 0]\n",
      " [ 3]\n",
      " [ 5]\n",
      " [ 1]\n",
      " [ 0]\n",
      " [ 5]\n",
      " [ 0]\n",
      " [ 2]\n",
      " [ 4]\n",
      " [ 9]\n",
      " [ 5]\n",
      " [ 6]\n",
      " [ 2]\n",
      " [ 7]\n",
      " [ 2]\n",
      " [10]\n",
      " [ 5]\n",
      " [ 0]\n",
      " [ 4]\n",
      " [ 1]\n",
      " [ 6]\n",
      " [ 2]\n",
      " [ 8]\n",
      " [ 7]\n",
      " [ 3]\n",
      " [ 3]\n",
      " [ 0]\n",
      " [ 0]\n",
      " [ 0]\n",
      " [ 2]\n",
      " [ 5]\n",
      " [ 5]\n",
      " [ 6]\n",
      " [ 2]\n",
      " [ 5]\n",
      " [ 9]\n",
      " [ 5]\n",
      " [ 0]\n",
      " [ 2]\n",
      " [ 9]\n",
      " [ 8]\n",
      " [ 0]\n",
      " [ 0]\n",
      " [ 2]\n",
      " [ 1]\n",
      " [ 6]\n",
      " [ 5]\n",
      " [ 5]\n",
      " [ 3]\n",
      " [ 3]\n",
      " [ 3]\n",
      " [ 1]\n",
      " [ 5]\n",
      " [ 1]\n",
      " [ 9]\n",
      " [ 6]\n",
      " [ 0]\n",
      " [10]\n",
      " [ 8]\n",
      " [ 4]\n",
      " [10]\n",
      " [ 7]\n",
      " [ 4]\n",
      " [ 1]\n",
      " [ 2]\n",
      " [ 1]\n",
      " [ 3]\n",
      " [ 5]\n",
      " [ 5]\n",
      " [ 7]\n",
      " [ 1]\n",
      " [ 5]\n",
      " [ 0]\n",
      " [ 2]\n",
      " [ 8]\n",
      " [ 8]\n",
      " [ 6]\n",
      " [ 5]\n",
      " [ 9]\n",
      " [ 0]\n",
      " [ 4]\n",
      " [ 0]\n",
      " [10]\n",
      " [ 0]\n",
      " [ 3]\n",
      " [ 4]\n",
      " [ 8]\n",
      " [ 9]\n",
      " [ 1]\n",
      " [ 6]\n",
      " [ 4]\n",
      " [ 1]\n",
      " [ 4]\n",
      " [ 1]\n",
      " [ 4]\n",
      " [ 2]\n",
      " [ 1]\n",
      " [ 5]\n",
      " [ 3]\n",
      " [ 1]\n",
      " [ 9]\n",
      " [ 5]\n",
      " [ 6]\n",
      " [ 7]\n",
      " [ 0]\n",
      " [ 3]\n",
      " [ 0]\n",
      " [ 9]\n",
      " [ 7]\n",
      " [ 5]\n",
      " [ 9]]\n"
     ]
    }
   ],
   "source": [
    "print(x)"
   ]
  },
  {
   "cell_type": "code",
   "execution_count": 55,
   "metadata": {
    "pycharm": {
     "name": "#%%\n"
    }
   },
   "outputs": [
    {
     "name": "stdout",
     "output_type": "stream",
     "text": [
      "[ 37.9  42.2  47.3  54.8  43.1  32.1  40.3  46.7  18.8  22.1  41.4  58.1\n",
      "  39.3  23.8  34.3  50.5  70.1  37.4  42.3  47.7  29.3  51.6  24.6  47.9\n",
      "  38.8  27.   56.2  33.6  47.   57.1  22.1  25.   34.2  49.3  55.1  27.3\n",
      "  22.9  25.3  47.7  46.2  15.9  18.2  34.7  34.1  53.9  38.3  42.   61.5\n",
      "  13.4  13.2  44.2  20.7  27.   38.9  51.7  13.7  41.9  53.5  22.6  42.4\n",
      "  21.3  63.2  27.7  55.   25.3  44.3  50.7  56.8  36.2  42.   59.   40.8\n",
      "  36.3  20.   54.4  29.5  36.8  25.6  29.8  26.5  40.3  36.8  48.1  17.7\n",
      "  43.7  50.8  27.   18.3  48.   25.3  45.4  43.2  21.8  16.1  41.   51.8\n",
      "  59.5  34.6  51.   62.2  38.2  32.9  54.4  45.7  30.5  71.   47.1  26.6\n",
      "  34.1  28.4  51.6  39.4  23.1   7.6  53.3  46.4  12.2  13.   30.6  59.6\n",
      "  31.3  48.   32.5  45.5  57.4  48.6  62.9  55.   60.7  41.   37.5  30.7\n",
      "  37.5  39.5  42.2  20.8  46.8  47.4  43.5  42.5  51.4  28.9  37.5  40.1\n",
      "  28.4  45.5  52.2  43.2  45.1  39.7  48.5  44.7  28.9  40.9  20.7  15.6\n",
      "  18.3  35.6  39.4  37.4  57.8  39.6  11.6  55.5  55.2  30.6  73.6  43.4\n",
      "  37.4  23.5  14.4  58.8  58.1  35.1  45.2  36.5  19.2  42.   36.7  42.6\n",
      "  15.5  55.9  23.6  18.8  21.8  21.5  25.7  22.   44.3  20.5  42.3  37.8\n",
      "  42.7  49.3  29.3  34.6  36.6  48.2  39.1  31.6  25.5  45.9  31.5  46.1\n",
      "  26.6  21.4  44.   34.2  26.2  40.9  52.2  43.5  31.1  58.   20.9  48.1\n",
      "  39.7  40.8  43.8  40.2  78.3  38.5  48.5  42.3  46.   49.   12.8  40.2\n",
      "  46.6  19.   33.4  14.7  17.4  32.4  23.9  39.3  61.9  39.   40.6  29.7\n",
      "  28.8  41.4  33.4  48.2  21.7  40.8  40.6  23.1  22.3  15.   30.   13.8\n",
      "  52.7  25.9  51.8  17.4  26.5  43.9  63.3  28.8  30.7  24.4  53.   31.7\n",
      "  40.6  38.1  23.7  41.1  40.1  23.  117.5  26.5  40.5  29.3  41.   49.7\n",
      "  34.   27.7  44.   31.1  45.4  44.8  25.6  23.5  34.4  55.3  56.3  32.9\n",
      "  51.   44.5  37.   54.4  24.5  42.5  38.1  21.8  34.1  28.5  16.7  46.1\n",
      "  36.9  35.7  23.2  38.4  29.4  55.   50.2  24.7  53.   19.1  24.7  42.2\n",
      "  78.   42.8  41.6  27.3  42.   37.5  49.8  26.9  18.6  37.7  33.1  42.5\n",
      "  31.3  38.1  62.1  36.7  23.6  19.2  12.8  15.6  39.6  38.4  22.8  36.5\n",
      "  35.6  30.9  36.3  50.4  42.9  37.   53.5  46.6  41.2  37.9  30.8  11.2\n",
      "  53.7  47.   42.3  28.6  25.7  31.3  30.1  60.7  45.3  44.9  45.1  24.7\n",
      "  47.1  63.3  40.   48.   33.1  29.5  24.8  20.9  43.1  22.8  42.1  51.7\n",
      "  41.5  52.2  49.5  23.8  30.5  56.8  37.4  69.7  53.3  47.3  29.3  40.3\n",
      "  12.9  46.6  55.3  25.6  27.3  67.7  38.6  31.3  35.3  40.3  24.7  42.5\n",
      "  31.9  32.2  23.   37.3  35.5  27.7  28.5  39.7  41.2  37.2  40.5  22.3\n",
      "  28.1  15.4  50.   40.6  52.5  63.9]\n"
     ]
    }
   ],
   "source": [
    "print(y)"
   ]
  },
  {
   "cell_type": "markdown",
   "metadata": {},
   "source": [
    "## Split the Dataset into Training Set and Test Set"
   ]
  },
  {
   "cell_type": "code",
   "execution_count": 56,
   "metadata": {
    "pycharm": {
     "is_executing": true,
     "name": "#%%\n"
    }
   },
   "outputs": [],
   "source": [
    "from sklearn.model_selection import train_test_split\n",
    "X_train, X_test, y_train, y_test = train_test_split(x, y, test_size = 0.20, random_state = 0)"
   ]
  },
  {
   "cell_type": "markdown",
   "metadata": {},
   "source": [
    "## Train the Simple Regression Model to the Training Set"
   ]
  },
  {
   "cell_type": "code",
   "execution_count": 57,
   "metadata": {
    "pycharm": {
     "is_executing": true,
     "name": "#%%\n"
    }
   },
   "outputs": [
    {
     "data": {
      "text/html": [
       "<style>#sk-container-id-10 {color: black;background-color: white;}#sk-container-id-10 pre{padding: 0;}#sk-container-id-10 div.sk-toggleable {background-color: white;}#sk-container-id-10 label.sk-toggleable__label {cursor: pointer;display: block;width: 100%;margin-bottom: 0;padding: 0.3em;box-sizing: border-box;text-align: center;}#sk-container-id-10 label.sk-toggleable__label-arrow:before {content: \"▸\";float: left;margin-right: 0.25em;color: #696969;}#sk-container-id-10 label.sk-toggleable__label-arrow:hover:before {color: black;}#sk-container-id-10 div.sk-estimator:hover label.sk-toggleable__label-arrow:before {color: black;}#sk-container-id-10 div.sk-toggleable__content {max-height: 0;max-width: 0;overflow: hidden;text-align: left;background-color: #f0f8ff;}#sk-container-id-10 div.sk-toggleable__content pre {margin: 0.2em;color: black;border-radius: 0.25em;background-color: #f0f8ff;}#sk-container-id-10 input.sk-toggleable__control:checked~div.sk-toggleable__content {max-height: 200px;max-width: 100%;overflow: auto;}#sk-container-id-10 input.sk-toggleable__control:checked~label.sk-toggleable__label-arrow:before {content: \"▾\";}#sk-container-id-10 div.sk-estimator input.sk-toggleable__control:checked~label.sk-toggleable__label {background-color: #d4ebff;}#sk-container-id-10 div.sk-label input.sk-toggleable__control:checked~label.sk-toggleable__label {background-color: #d4ebff;}#sk-container-id-10 input.sk-hidden--visually {border: 0;clip: rect(1px 1px 1px 1px);clip: rect(1px, 1px, 1px, 1px);height: 1px;margin: -1px;overflow: hidden;padding: 0;position: absolute;width: 1px;}#sk-container-id-10 div.sk-estimator {font-family: monospace;background-color: #f0f8ff;border: 1px dotted black;border-radius: 0.25em;box-sizing: border-box;margin-bottom: 0.5em;}#sk-container-id-10 div.sk-estimator:hover {background-color: #d4ebff;}#sk-container-id-10 div.sk-parallel-item::after {content: \"\";width: 100%;border-bottom: 1px solid gray;flex-grow: 1;}#sk-container-id-10 div.sk-label:hover label.sk-toggleable__label {background-color: #d4ebff;}#sk-container-id-10 div.sk-serial::before {content: \"\";position: absolute;border-left: 1px solid gray;box-sizing: border-box;top: 0;bottom: 0;left: 50%;z-index: 0;}#sk-container-id-10 div.sk-serial {display: flex;flex-direction: column;align-items: center;background-color: white;padding-right: 0.2em;padding-left: 0.2em;position: relative;}#sk-container-id-10 div.sk-item {position: relative;z-index: 1;}#sk-container-id-10 div.sk-parallel {display: flex;align-items: stretch;justify-content: center;background-color: white;position: relative;}#sk-container-id-10 div.sk-item::before, #sk-container-id-10 div.sk-parallel-item::before {content: \"\";position: absolute;border-left: 1px solid gray;box-sizing: border-box;top: 0;bottom: 0;left: 50%;z-index: -1;}#sk-container-id-10 div.sk-parallel-item {display: flex;flex-direction: column;z-index: 1;position: relative;background-color: white;}#sk-container-id-10 div.sk-parallel-item:first-child::after {align-self: flex-end;width: 50%;}#sk-container-id-10 div.sk-parallel-item:last-child::after {align-self: flex-start;width: 50%;}#sk-container-id-10 div.sk-parallel-item:only-child::after {width: 0;}#sk-container-id-10 div.sk-dashed-wrapped {border: 1px dashed gray;margin: 0 0.4em 0.5em 0.4em;box-sizing: border-box;padding-bottom: 0.4em;background-color: white;}#sk-container-id-10 div.sk-label label {font-family: monospace;font-weight: bold;display: inline-block;line-height: 1.2em;}#sk-container-id-10 div.sk-label-container {text-align: center;}#sk-container-id-10 div.sk-container {/* jupyter's `normalize.less` sets `[hidden] { display: none; }` but bootstrap.min.css set `[hidden] { display: none !important; }` so we also need the `!important` here to be able to override the default hidden behavior on the sphinx rendered scikit-learn.org. See: https://github.com/scikit-learn/scikit-learn/issues/21755 */display: inline-block !important;position: relative;}#sk-container-id-10 div.sk-text-repr-fallback {display: none;}</style><div id=\"sk-container-id-10\" class=\"sk-top-container\"><div class=\"sk-text-repr-fallback\"><pre>LinearRegression()</pre><b>In a Jupyter environment, please rerun this cell to show the HTML representation or trust the notebook. <br />On GitHub, the HTML representation is unable to render, please try loading this page with nbviewer.org.</b></div><div class=\"sk-container\" hidden><div class=\"sk-item\"><div class=\"sk-estimator sk-toggleable\"><input class=\"sk-toggleable__control sk-hidden--visually\" id=\"sk-estimator-id-10\" type=\"checkbox\" checked><label for=\"sk-estimator-id-10\" class=\"sk-toggleable__label sk-toggleable__label-arrow\">LinearRegression</label><div class=\"sk-toggleable__content\"><pre>LinearRegression()</pre></div></div></div></div></div>"
      ],
      "text/plain": [
       "LinearRegression()"
      ]
     },
     "execution_count": 57,
     "metadata": {},
     "output_type": "execute_result"
    }
   ],
   "source": [
    "from sklearn.linear_model import LinearRegression\n",
    "model_fit = LinearRegression()\n",
    "model_fit.fit(X_train, y_train)"
   ]
  },
  {
   "cell_type": "markdown",
   "metadata": {},
   "source": [
    "## Prediciting the Test Set"
   ]
  },
  {
   "cell_type": "code",
   "execution_count": 58,
   "metadata": {
    "pycharm": {
     "name": "#%%\n"
    }
   },
   "outputs": [
    {
     "data": {
      "text/plain": [
       "array([29.97674286, 27.3261942 , 43.22948617, 27.3261942 , 29.97674286,\n",
       "       48.53058349, 45.88003483, 29.97674286, 45.88003483, 40.57893751,\n",
       "       45.88003483, 40.57893751, 29.97674286, 45.88003483, 43.22948617,\n",
       "       35.27784019, 45.88003483, 27.3261942 , 40.57893751, 48.53058349,\n",
       "       51.18113215, 29.97674286, 40.57893751, 40.57893751, 40.57893751,\n",
       "       45.88003483, 48.53058349, 32.62729152, 40.57893751, 27.3261942 ,\n",
       "       40.57893751, 27.3261942 , 29.97674286, 32.62729152, 48.53058349,\n",
       "       29.97674286, 53.83168081, 35.27784019, 53.83168081, 29.97674286,\n",
       "       51.18113215, 32.62729152, 35.27784019, 53.83168081, 27.3261942 ,\n",
       "       43.22948617, 48.53058349, 27.3261942 , 32.62729152, 45.88003483,\n",
       "       51.18113215, 45.88003483, 51.18113215, 27.3261942 , 29.97674286,\n",
       "       37.92838885, 40.57893751, 40.57893751, 45.88003483, 27.3261942 ,\n",
       "       48.53058349, 48.53058349, 29.97674286, 45.88003483, 43.22948617,\n",
       "       35.27784019, 29.97674286, 35.27784019, 40.57893751, 48.53058349,\n",
       "       27.3261942 , 40.57893751, 51.18113215, 32.62729152, 37.92838885,\n",
       "       35.27784019, 35.27784019, 27.3261942 , 40.57893751, 37.92838885,\n",
       "       43.22948617, 29.97674286, 43.22948617])"
      ]
     },
     "execution_count": 58,
     "metadata": {},
     "output_type": "execute_result"
    }
   ],
   "source": [
    "model_fit.predict(X_test)"
   ]
  },
  {
   "cell_type": "markdown",
   "metadata": {},
   "source": [
    "## Visualise the Training Set"
   ]
  },
  {
   "cell_type": "code",
   "execution_count": 59,
   "metadata": {
    "pycharm": {
     "is_executing": true,
     "name": "#%%\n"
    }
   },
   "outputs": [
    {
     "data": {
      "image/png": "[encoded data removed]",
      "text/plain": [
       "<Figure size 432x288 with 1 Axes>"
      ]
     },
     "metadata": {
      "needs_background": "light"
     },
     "output_type": "display_data"
    }
   ],
   "source": [
    "plt.scatter(X_train, y_train, color = 'red')\n",
    "plt.plot(X_train, model_fit.predict(X_train), color = 'blue')\n",
    "plt.title('Number of Stores vs House Price (Test set)')\n",
    "plt.xlabel('Number of Convenience Stores')\n",
    "plt.ylabel('House Price of Unit Area')\n",
    "plt.show()"
   ]
  },
  {
   "cell_type": "markdown",
   "metadata": {
    "pycharm": {
     "name": "#%% md\n"
    }
   },
   "source": [
    "## Visualize the Test Set"
   ]
  },
  {
   "cell_type": "code",
   "execution_count": 60,
   "metadata": {
    "pycharm": {
     "name": "#%%\n"
    }
   },
   "outputs": [
    {
     "data": {
      "image/png": "[encoded data removed]",
      "text/plain": [
       "<Figure size 432x288 with 1 Axes>"
      ]
     },
     "metadata": {
      "needs_background": "light"
     },
     "output_type": "display_data"
    }
   ],
   "source": [
    "plt.scatter(X_test, y_test, color = 'red')\n",
    "plt.plot(X_train, model_fit.predict(X_train), color = 'blue')\n",
    "plt.title('Number of Stores vs House Price (Test set)')\n",
    "plt.xlabel('Number of Convenience Stores')\n",
    "plt.ylabel('House Price of Unit Area')\n",
    "plt.show()"
   ]
  },
  {
   "cell_type": "code",
   "execution_count": null,
   "metadata": {},
   "outputs": [],
   "source": []
  }
 ],
 "metadata": {
  "kernelspec": {
   "display_name": "Python 3 (ipykernel)",
   "language": "python",
   "name": "python3"
  },
  "language_info": {
   "codemirror_mode": {
    "name": "ipython",
    "version": 3
   },
   "file_extension": ".py",
   "mimetype": "text/x-python",
   "name": "python",
   "nbconvert_exporter": "python",
   "pygments_lexer": "ipython3",
   "version": "3.10.0"
  }
 },
 "nbformat": 4,
 "nbformat_minor": 1
}